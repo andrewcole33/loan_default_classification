{
 "cells": [
  {
   "cell_type": "markdown",
   "metadata": {},
   "source": [
    "# Mod 5 Project: Classifying Loan Default\n",
    "### Dataset: LendingClub 2007-11"
   ]
  },
  {
   "cell_type": "code",
   "execution_count": 214,
   "metadata": {},
   "outputs": [],
   "source": [
    "import pandas as pd\n",
    "import warnings\n",
    "import numpy as np\n",
    "import seaborn as sns\n",
    "import matplotlib.pyplot as plt\n",
    "\n",
    "\n",
    "%matplotlib inline\n",
    "plt.rcParams['figure.figsize'] = (16,9)"
   ]
  },
  {
   "cell_type": "markdown",
   "metadata": {},
   "source": [
    "## EDA\n",
    "#### Load CSV file and begin EDA"
   ]
  },
  {
   "cell_type": "code",
   "execution_count": 215,
   "metadata": {},
   "outputs": [
    {
     "data": {
      "text/html": [
       "<div>\n",
       "<style scoped>\n",
       "    .dataframe tbody tr th:only-of-type {\n",
       "        vertical-align: middle;\n",
       "    }\n",
       "\n",
       "    .dataframe tbody tr th {\n",
       "        vertical-align: top;\n",
       "    }\n",
       "\n",
       "    .dataframe thead th {\n",
       "        text-align: right;\n",
       "    }\n",
       "</style>\n",
       "<table border=\"1\" class=\"dataframe\">\n",
       "  <thead>\n",
       "    <tr style=\"text-align: right;\">\n",
       "      <th></th>\n",
       "      <th>id</th>\n",
       "      <th>member_id</th>\n",
       "      <th>loan_amnt</th>\n",
       "      <th>funded_amnt</th>\n",
       "      <th>funded_amnt_inv</th>\n",
       "      <th>term</th>\n",
       "      <th>int_rate</th>\n",
       "      <th>installment</th>\n",
       "      <th>grade</th>\n",
       "      <th>sub_grade</th>\n",
       "      <th>...</th>\n",
       "      <th>orig_projected_additional_accrued_interest</th>\n",
       "      <th>hardship_payoff_balance_amount</th>\n",
       "      <th>hardship_last_payment_amount</th>\n",
       "      <th>debt_settlement_flag</th>\n",
       "      <th>debt_settlement_flag_date</th>\n",
       "      <th>settlement_status</th>\n",
       "      <th>settlement_date</th>\n",
       "      <th>settlement_amount</th>\n",
       "      <th>settlement_percentage</th>\n",
       "      <th>settlement_term</th>\n",
       "    </tr>\n",
       "  </thead>\n",
       "  <tbody>\n",
       "    <tr>\n",
       "      <td>0</td>\n",
       "      <td>1077501</td>\n",
       "      <td>NaN</td>\n",
       "      <td>5000.0</td>\n",
       "      <td>5000.0</td>\n",
       "      <td>4975.0</td>\n",
       "      <td>36 months</td>\n",
       "      <td>10.65%</td>\n",
       "      <td>162.87</td>\n",
       "      <td>B</td>\n",
       "      <td>B2</td>\n",
       "      <td>...</td>\n",
       "      <td>NaN</td>\n",
       "      <td>NaN</td>\n",
       "      <td>NaN</td>\n",
       "      <td>N</td>\n",
       "      <td>NaN</td>\n",
       "      <td>NaN</td>\n",
       "      <td>NaN</td>\n",
       "      <td>NaN</td>\n",
       "      <td>NaN</td>\n",
       "      <td>NaN</td>\n",
       "    </tr>\n",
       "    <tr>\n",
       "      <td>1</td>\n",
       "      <td>1077430</td>\n",
       "      <td>NaN</td>\n",
       "      <td>2500.0</td>\n",
       "      <td>2500.0</td>\n",
       "      <td>2500.0</td>\n",
       "      <td>60 months</td>\n",
       "      <td>15.27%</td>\n",
       "      <td>59.83</td>\n",
       "      <td>C</td>\n",
       "      <td>C4</td>\n",
       "      <td>...</td>\n",
       "      <td>NaN</td>\n",
       "      <td>NaN</td>\n",
       "      <td>NaN</td>\n",
       "      <td>N</td>\n",
       "      <td>NaN</td>\n",
       "      <td>NaN</td>\n",
       "      <td>NaN</td>\n",
       "      <td>NaN</td>\n",
       "      <td>NaN</td>\n",
       "      <td>NaN</td>\n",
       "    </tr>\n",
       "    <tr>\n",
       "      <td>2</td>\n",
       "      <td>1077175</td>\n",
       "      <td>NaN</td>\n",
       "      <td>2400.0</td>\n",
       "      <td>2400.0</td>\n",
       "      <td>2400.0</td>\n",
       "      <td>36 months</td>\n",
       "      <td>15.96%</td>\n",
       "      <td>84.33</td>\n",
       "      <td>C</td>\n",
       "      <td>C5</td>\n",
       "      <td>...</td>\n",
       "      <td>NaN</td>\n",
       "      <td>NaN</td>\n",
       "      <td>NaN</td>\n",
       "      <td>N</td>\n",
       "      <td>NaN</td>\n",
       "      <td>NaN</td>\n",
       "      <td>NaN</td>\n",
       "      <td>NaN</td>\n",
       "      <td>NaN</td>\n",
       "      <td>NaN</td>\n",
       "    </tr>\n",
       "    <tr>\n",
       "      <td>3</td>\n",
       "      <td>1076863</td>\n",
       "      <td>NaN</td>\n",
       "      <td>10000.0</td>\n",
       "      <td>10000.0</td>\n",
       "      <td>10000.0</td>\n",
       "      <td>36 months</td>\n",
       "      <td>13.49%</td>\n",
       "      <td>339.31</td>\n",
       "      <td>C</td>\n",
       "      <td>C1</td>\n",
       "      <td>...</td>\n",
       "      <td>NaN</td>\n",
       "      <td>NaN</td>\n",
       "      <td>NaN</td>\n",
       "      <td>N</td>\n",
       "      <td>NaN</td>\n",
       "      <td>NaN</td>\n",
       "      <td>NaN</td>\n",
       "      <td>NaN</td>\n",
       "      <td>NaN</td>\n",
       "      <td>NaN</td>\n",
       "    </tr>\n",
       "    <tr>\n",
       "      <td>4</td>\n",
       "      <td>1075358</td>\n",
       "      <td>NaN</td>\n",
       "      <td>3000.0</td>\n",
       "      <td>3000.0</td>\n",
       "      <td>3000.0</td>\n",
       "      <td>60 months</td>\n",
       "      <td>12.69%</td>\n",
       "      <td>67.79</td>\n",
       "      <td>B</td>\n",
       "      <td>B5</td>\n",
       "      <td>...</td>\n",
       "      <td>NaN</td>\n",
       "      <td>NaN</td>\n",
       "      <td>NaN</td>\n",
       "      <td>N</td>\n",
       "      <td>NaN</td>\n",
       "      <td>NaN</td>\n",
       "      <td>NaN</td>\n",
       "      <td>NaN</td>\n",
       "      <td>NaN</td>\n",
       "      <td>NaN</td>\n",
       "    </tr>\n",
       "  </tbody>\n",
       "</table>\n",
       "<p>5 rows × 150 columns</p>\n",
       "</div>"
      ],
      "text/plain": [
       "        id  member_id  loan_amnt  funded_amnt  funded_amnt_inv        term  \\\n",
       "0  1077501        NaN     5000.0       5000.0           4975.0   36 months   \n",
       "1  1077430        NaN     2500.0       2500.0           2500.0   60 months   \n",
       "2  1077175        NaN     2400.0       2400.0           2400.0   36 months   \n",
       "3  1076863        NaN    10000.0      10000.0          10000.0   36 months   \n",
       "4  1075358        NaN     3000.0       3000.0           3000.0   60 months   \n",
       "\n",
       "  int_rate  installment grade sub_grade  ...  \\\n",
       "0   10.65%       162.87     B        B2  ...   \n",
       "1   15.27%        59.83     C        C4  ...   \n",
       "2   15.96%        84.33     C        C5  ...   \n",
       "3   13.49%       339.31     C        C1  ...   \n",
       "4   12.69%        67.79     B        B5  ...   \n",
       "\n",
       "  orig_projected_additional_accrued_interest hardship_payoff_balance_amount  \\\n",
       "0                                        NaN                            NaN   \n",
       "1                                        NaN                            NaN   \n",
       "2                                        NaN                            NaN   \n",
       "3                                        NaN                            NaN   \n",
       "4                                        NaN                            NaN   \n",
       "\n",
       "  hardship_last_payment_amount  debt_settlement_flag  \\\n",
       "0                          NaN                     N   \n",
       "1                          NaN                     N   \n",
       "2                          NaN                     N   \n",
       "3                          NaN                     N   \n",
       "4                          NaN                     N   \n",
       "\n",
       "  debt_settlement_flag_date settlement_status settlement_date  \\\n",
       "0                       NaN               NaN             NaN   \n",
       "1                       NaN               NaN             NaN   \n",
       "2                       NaN               NaN             NaN   \n",
       "3                       NaN               NaN             NaN   \n",
       "4                       NaN               NaN             NaN   \n",
       "\n",
       "  settlement_amount settlement_percentage settlement_term  \n",
       "0               NaN                   NaN             NaN  \n",
       "1               NaN                   NaN             NaN  \n",
       "2               NaN                   NaN             NaN  \n",
       "3               NaN                   NaN             NaN  \n",
       "4               NaN                   NaN             NaN  \n",
       "\n",
       "[5 rows x 150 columns]"
      ]
     },
     "metadata": {},
     "output_type": "display_data"
    },
    {
     "name": "stdout",
     "output_type": "stream",
     "text": [
      "<class 'pandas.core.frame.DataFrame'>\n",
      "RangeIndex: 42535 entries, 0 to 42534\n",
      "Columns: 150 entries, id to settlement_term\n",
      "dtypes: float64(120), object(30)\n",
      "memory usage: 48.7+ MB\n"
     ]
    },
    {
     "data": {
      "text/plain": [
       "None"
      ]
     },
     "metadata": {},
     "output_type": "display_data"
    }
   ],
   "source": [
    "loan_df = pd.read_csv('LCloans_07.csv', skiprows = 1, low_memory = False)\n",
    "display(loan_df.head())\n",
    "display(loan_df.info())"
   ]
  },
  {
   "cell_type": "code",
   "execution_count": 216,
   "metadata": {},
   "outputs": [],
   "source": [
    "# drop any values with more than half missing\n",
    "half_na = len(loan_df)/2\n",
    "loan_df = loan_df.dropna(thresh = half_na, axis = 1)\n",
    "loan_df = loan_df.drop(['url','desc'], axis = 1)\n"
   ]
  },
  {
   "cell_type": "code",
   "execution_count": 217,
   "metadata": {},
   "outputs": [
    {
     "data": {
      "text/plain": [
       "(42535, 57)"
      ]
     },
     "execution_count": 217,
     "metadata": {},
     "output_type": "execute_result"
    }
   ],
   "source": [
    "loan_df.shape"
   ]
  },
  {
   "cell_type": "code",
   "execution_count": 218,
   "metadata": {},
   "outputs": [],
   "source": [
    "#Drop irrelevant columns\n",
    "drops = ['id', 'funded_amnt', 'funded_amnt_inv', 'int_rate', 'sub_grade', 'emp_title', 'issue_d', 'zip_code', \n",
    "         'out_prncp', 'out_prncp_inv', 'total_pymnt', 'total_pymnt_inv', 'total_rec_prncp', 'total_rec_int', \n",
    "         'total_rec_late_fee', 'recoveries', 'collection_recovery_fee', 'last_pymnt_d', 'last_pymnt_amnt',\n",
    "         'pymnt_plan', 'initial_list_status', 'collections_12_mths_ex_med', 'policy_code', 'application_type', \n",
    "         'chargeoff_within_12_mths', 'pub_rec_bankruptcies', 'tax_liens',\n",
    "         'hardship_flag', 'debt_settlement_flag', 'delinq_amnt']\n",
    "loan_df = loan_df.drop(columns = drops, axis = 1)"
   ]
  },
  {
   "cell_type": "code",
   "execution_count": 219,
   "metadata": {},
   "outputs": [],
   "source": [
    "# Average fico score (unique to entry)\n",
    "loan_df['avg_fico'] = (loan_df['fico_range_high'] + loan_df['fico_range_low'])/2"
   ]
  },
  {
   "cell_type": "code",
   "execution_count": 220,
   "metadata": {},
   "outputs": [],
   "source": [
    "loan_df = loan_df.drop(columns = ['fico_range_low', 'fico_range_high', 'last_fico_range_low', 'last_fico_range_high'], axis = 1)"
   ]
  },
  {
   "cell_type": "code",
   "execution_count": 221,
   "metadata": {},
   "outputs": [
    {
     "name": "stdout",
     "output_type": "stream",
     "text": [
      "<class 'pandas.core.frame.DataFrame'>\n",
      "RangeIndex: 42535 entries, 0 to 42534\n",
      "Data columns (total 24 columns):\n",
      "loan_amnt              42532 non-null float64\n",
      "term                   42532 non-null object\n",
      "installment            42532 non-null float64\n",
      "grade                  42532 non-null object\n",
      "emp_length             41420 non-null object\n",
      "home_ownership         42532 non-null object\n",
      "annual_inc             42528 non-null float64\n",
      "verification_status    42532 non-null object\n",
      "loan_status            42532 non-null object\n",
      "purpose                42532 non-null object\n",
      "title                  42519 non-null object\n",
      "addr_state             42532 non-null object\n",
      "dti                    42532 non-null float64\n",
      "delinq_2yrs            42503 non-null float64\n",
      "earliest_cr_line       42503 non-null object\n",
      "inq_last_6mths         42503 non-null float64\n",
      "open_acc               42503 non-null float64\n",
      "pub_rec                42503 non-null float64\n",
      "revol_bal              42532 non-null float64\n",
      "revol_util             42442 non-null object\n",
      "total_acc              42503 non-null float64\n",
      "last_credit_pull_d     42528 non-null object\n",
      "acc_now_delinq         42503 non-null float64\n",
      "avg_fico               42532 non-null float64\n",
      "dtypes: float64(12), object(12)\n",
      "memory usage: 7.8+ MB\n"
     ]
    }
   ],
   "source": [
    "loan_df.info()"
   ]
  },
  {
   "cell_type": "code",
   "execution_count": 222,
   "metadata": {},
   "outputs": [
    {
     "data": {
      "text/plain": [
       "Fully Paid                                             34113\n",
       "Charged Off                                             5670\n",
       "Does not meet the credit policy. Status:Fully Paid      1988\n",
       "Does not meet the credit policy. Status:Charged Off      761\n",
       "Name: loan_status, dtype: int64"
      ]
     },
     "execution_count": 222,
     "metadata": {},
     "output_type": "execute_result"
    }
   ],
   "source": [
    "loan_df.loan_status.value_counts()"
   ]
  },
  {
   "cell_type": "code",
   "execution_count": 223,
   "metadata": {},
   "outputs": [],
   "source": [
    "#Label Binarize loan status target to 1 = paid, 0 = charged off \n",
    "loan_df = loan_df[(loan_df.loan_status == 'Fully Paid') | (loan_df.loan_status == 'Charged Off')] \n",
    "loan_status_dict = {\"loan_status\" : {\"Fully Paid\":1, \"Charged Off\":0}}\n",
    "loan_df = loan_df.replace(loan_status_dict);"
   ]
  },
  {
   "cell_type": "code",
   "execution_count": 224,
   "metadata": {},
   "outputs": [
    {
     "data": {
      "text/plain": [
       "1    34113\n",
       "0     5670\n",
       "Name: loan_status, dtype: int64"
      ]
     },
     "execution_count": 224,
     "metadata": {},
     "output_type": "execute_result"
    }
   ],
   "source": [
    "loan_df.loan_status.value_counts()"
   ]
  },
  {
   "cell_type": "code",
   "execution_count": 225,
   "metadata": {},
   "outputs": [
    {
     "data": {
      "image/png": "[encoded data removed]",
      "text/plain": [
       "<Figure size 1152x648 with 1 Axes>"
      ]
     },
     "metadata": {
      "needs_background": "light"
     },
     "output_type": "display_data"
    }
   ],
   "source": [
    "\n",
    "fig = plt.figure(figsize = (16,9))\n",
    "sns.set_style('darkgrid')\n",
    "sns.countplot(loan_df.loan_status).set_title('Frequency of Loan Status')\n",
    "plt.show()"
   ]
  },
  {
   "cell_type": "code",
   "execution_count": 226,
   "metadata": {},
   "outputs": [
    {
     "name": "stdout",
     "output_type": "stream",
     "text": [
      "Percentage of borrowers with loans fully paid: 85.75 %\n"
     ]
    }
   ],
   "source": [
    "print(f\"Percentage of borrowers with loans fully paid: {round(sum(loan_df.loan_status == 1)/len(loan_df.loan_status) * 100,2)} %\")"
   ]
  },
  {
   "cell_type": "markdown",
   "metadata": {},
   "source": [
    "### Handle Missing Data/Categoricals"
   ]
  },
  {
   "cell_type": "code",
   "execution_count": 227,
   "metadata": {},
   "outputs": [
    {
     "name": "stdout",
     "output_type": "stream",
     "text": [
      "<class 'pandas.core.frame.DataFrame'>\n",
      "Int64Index: 39783 entries, 0 to 39782\n",
      "Data columns (total 24 columns):\n",
      "loan_amnt              39783 non-null float64\n",
      "term                   39783 non-null object\n",
      "installment            39783 non-null float64\n",
      "grade                  39783 non-null object\n",
      "emp_length             38705 non-null object\n",
      "home_ownership         39783 non-null object\n",
      "annual_inc             39783 non-null float64\n",
      "verification_status    39783 non-null object\n",
      "loan_status            39783 non-null int64\n",
      "purpose                39783 non-null object\n",
      "title                  39772 non-null object\n",
      "addr_state             39783 non-null object\n",
      "dti                    39783 non-null float64\n",
      "delinq_2yrs            39783 non-null float64\n",
      "earliest_cr_line       39783 non-null object\n",
      "inq_last_6mths         39783 non-null float64\n",
      "open_acc               39783 non-null float64\n",
      "pub_rec                39783 non-null float64\n",
      "revol_bal              39783 non-null float64\n",
      "revol_util             39733 non-null object\n",
      "total_acc              39783 non-null float64\n",
      "last_credit_pull_d     39781 non-null object\n",
      "acc_now_delinq         39783 non-null float64\n",
      "avg_fico               39783 non-null float64\n",
      "dtypes: float64(12), int64(1), object(11)\n",
      "memory usage: 8.8+ MB\n"
     ]
    }
   ],
   "source": [
    "loan_df.info()"
   ]
  },
  {
   "cell_type": "code",
   "execution_count": 228,
   "metadata": {},
   "outputs": [],
   "source": [
    "loan_df = loan_df.dropna()"
   ]
  },
  {
   "cell_type": "code",
   "execution_count": 229,
   "metadata": {},
   "outputs": [
    {
     "data": {
      "text/plain": [
       "float64    12\n",
       "object     11\n",
       "int64       1\n",
       "dtype: int64"
      ]
     },
     "execution_count": 229,
     "metadata": {},
     "output_type": "execute_result"
    }
   ],
   "source": [
    "loan_df.dtypes.value_counts()"
   ]
  },
  {
   "cell_type": "code",
   "execution_count": 230,
   "metadata": {},
   "outputs": [
    {
     "name": "stdout",
     "output_type": "stream",
     "text": [
      "term                     36 months\n",
      "grade                            B\n",
      "emp_length               10+ years\n",
      "home_ownership                RENT\n",
      "verification_status       Verified\n",
      "purpose                credit_card\n",
      "title                     Computer\n",
      "addr_state                      AZ\n",
      "earliest_cr_line          Jan-1985\n",
      "last_credit_pull_d        Dec-2019\n",
      "Name: 0, dtype: object\n"
     ]
    }
   ],
   "source": [
    "loan_df.revol_util = loan_df.revol_util.str.rstrip('%').astype('float')\n",
    "loan_df_objects = loan_df.select_dtypes(include = ['object'])\n",
    "print(loan_df_objects.iloc[0])"
   ]
  },
  {
   "cell_type": "code",
   "execution_count": 231,
   "metadata": {},
   "outputs": [],
   "source": [
    "#Drop addr_state (too many values)\n",
    "drops = ['last_credit_pull_d', 'addr_state', 'title', 'earliest_cr_line']\n",
    "loan_df = loan_df.drop(drops, axis = 1)"
   ]
  },
  {
   "cell_type": "code",
   "execution_count": 232,
   "metadata": {},
   "outputs": [
    {
     "data": {
      "text/plain": [
       "10+ years    8896\n",
       "< 1 year     4576\n",
       "2 years      4389\n",
       "3 years      4093\n",
       "4 years      3435\n",
       "5 years      3279\n",
       "1 year       3239\n",
       "6 years      2227\n",
       "7 years      1771\n",
       "8 years      1483\n",
       "9 years      1258\n",
       "Name: emp_length, dtype: int64"
      ]
     },
     "metadata": {},
     "output_type": "display_data"
    },
    {
     "data": {
      "text/plain": [
       "B    11694\n",
       "A     9692\n",
       "C     7924\n",
       "D     5194\n",
       "E     2799\n",
       "F     1028\n",
       "G      315\n",
       "Name: grade, dtype: int64"
      ]
     },
     "metadata": {},
     "output_type": "display_data"
    }
   ],
   "source": [
    "display(loan_df.emp_length.value_counts())\n",
    "display(loan_df.grade.value_counts())"
   ]
  },
  {
   "cell_type": "code",
   "execution_count": 233,
   "metadata": {},
   "outputs": [],
   "source": [
    "#Create mapping dictionary for ordinal categorical values\n",
    "ordinal_dict = {\"emp_length\" : {\n",
    "                                \"10+ years\": 10,\n",
    "                                \"9 years\": 9,\n",
    "                                \"8 years\": 8,\n",
    "                                \"7 years\": 7,\n",
    "                                \"6 years\": 6,\n",
    "                                \"5 years\": 5,\n",
    "                                \"4 years\": 4,\n",
    "                                \"3 years\": 3,\n",
    "                                \"2 years\": 2,\n",
    "                                \"1 year\": 1,\n",
    "                                \"< 1 year\": 0,\n",
    "                                \"n/a\": 0},\n",
    "                \"grade\" : {\n",
    "                    \"A\": 1,\n",
    "                    \"B\": 2,\n",
    "                    \"C\": 3,\n",
    "                    \"D\": 4,\n",
    "                    \"E\": 5,\n",
    "                    \"F\": 6,\n",
    "                    \"G\": 7\n",
    "                }}\n",
    "\n",
    "loan_df = loan_df.replace(ordinal_dict)\n"
   ]
  },
  {
   "cell_type": "code",
   "execution_count": 234,
   "metadata": {},
   "outputs": [],
   "source": [
    "# Create dummy variables for nominal values"
   ]
  },
  {
   "cell_type": "code",
   "execution_count": 235,
   "metadata": {},
   "outputs": [],
   "source": [
    "nominals = ['home_ownership', 'verification_status', 'purpose', 'term']\n",
    "dummy_loan_df = pd.get_dummies(loan_df[nominals])\n",
    "loan_df = pd.concat([loan_df, dummy_loan_df], axis = 1)\n",
    "loan_df = loan_df.drop(nominals, axis = 1)"
   ]
  },
  {
   "cell_type": "code",
   "execution_count": 236,
   "metadata": {},
   "outputs": [
    {
     "name": "stdout",
     "output_type": "stream",
     "text": [
      "<class 'pandas.core.frame.DataFrame'>\n",
      "Int64Index: 38646 entries, 0 to 39782\n",
      "Data columns (total 40 columns):\n",
      "loan_amnt                              38646 non-null float64\n",
      "installment                            38646 non-null float64\n",
      "grade                                  38646 non-null int64\n",
      "emp_length                             38646 non-null object\n",
      "annual_inc                             38646 non-null float64\n",
      "loan_status                            38646 non-null int64\n",
      "dti                                    38646 non-null float64\n",
      "delinq_2yrs                            38646 non-null float64\n",
      "inq_last_6mths                         38646 non-null float64\n",
      "open_acc                               38646 non-null float64\n",
      "pub_rec                                38646 non-null float64\n",
      "revol_bal                              38646 non-null float64\n",
      "revol_util                             38646 non-null float64\n",
      "total_acc                              38646 non-null float64\n",
      "acc_now_delinq                         38646 non-null float64\n",
      "avg_fico                               38646 non-null float64\n",
      "home_ownership_MORTGAGE                38646 non-null uint8\n",
      "home_ownership_NONE                    38646 non-null uint8\n",
      "home_ownership_OTHER                   38646 non-null uint8\n",
      "home_ownership_OWN                     38646 non-null uint8\n",
      "home_ownership_RENT                    38646 non-null uint8\n",
      "verification_status_Not Verified       38646 non-null uint8\n",
      "verification_status_Source Verified    38646 non-null uint8\n",
      "verification_status_Verified           38646 non-null uint8\n",
      "purpose_car                            38646 non-null uint8\n",
      "purpose_credit_card                    38646 non-null uint8\n",
      "purpose_debt_consolidation             38646 non-null uint8\n",
      "purpose_educational                    38646 non-null uint8\n",
      "purpose_home_improvement               38646 non-null uint8\n",
      "purpose_house                          38646 non-null uint8\n",
      "purpose_major_purchase                 38646 non-null uint8\n",
      "purpose_medical                        38646 non-null uint8\n",
      "purpose_moving                         38646 non-null uint8\n",
      "purpose_other                          38646 non-null uint8\n",
      "purpose_renewable_energy               38646 non-null uint8\n",
      "purpose_small_business                 38646 non-null uint8\n",
      "purpose_vacation                       38646 non-null uint8\n",
      "purpose_wedding                        38646 non-null uint8\n",
      "term_ 36 months                        38646 non-null uint8\n",
      "term_ 60 months                        38646 non-null uint8\n",
      "dtypes: float64(13), int64(2), object(1), uint8(24)\n",
      "memory usage: 5.9+ MB\n"
     ]
    }
   ],
   "source": [
    "loan_df.info()"
   ]
  },
  {
   "cell_type": "markdown",
   "metadata": {},
   "source": [
    "##### Scaling Numerical Data"
   ]
  },
  {
   "cell_type": "code",
   "execution_count": null,
   "metadata": {},
   "outputs": [],
   "source": []
  },
  {
   "cell_type": "markdown",
   "metadata": {},
   "source": [
    "# Classification Modeling"
   ]
  },
  {
   "cell_type": "code",
   "execution_count": 237,
   "metadata": {},
   "outputs": [],
   "source": [
    "from sklearn.model_selection import train_test_split\n",
    "from sklearn.tree import DecisionTreeClassifier\n",
    "from sklearn import tree\n",
    "from sklearn.externals.six import StringIO\n",
    "from IPython.display import Image\n",
    "from sklearn.tree import export_graphviz\n",
    "import pydotplus\n",
    "from sklearn.metrics import accuracy_score, confusion_matrix, classification_report, roc_curve, auc\n",
    "from sklearn.tree import DecisionTreeClassifier\n",
    "from sklearn.ensemble import BaggingClassifier, RandomForestClassifier\n",
    "warnings.filterwarnings('ignore')"
   ]
  },
  {
   "cell_type": "markdown",
   "metadata": {},
   "source": [
    "### Train Test Split"
   ]
  },
  {
   "cell_type": "code",
   "execution_count": 238,
   "metadata": {},
   "outputs": [],
   "source": [
    "X = loan_df.drop(columns = 'loan_status')\n",
    "y = loan_df.loan_status"
   ]
  },
  {
   "cell_type": "code",
   "execution_count": 239,
   "metadata": {},
   "outputs": [],
   "source": [
    "X_train, X_test, y_train, y_test = train_test_split(X, y, test_size = .20, random_state = 33)"
   ]
  },
  {
   "cell_type": "markdown",
   "metadata": {},
   "source": [
    "### SMOTE"
   ]
  },
  {
   "cell_type": "code",
   "execution_count": 266,
   "metadata": {},
   "outputs": [],
   "source": [
    "X_train_resampled, y_train_resampled = SMOTE().fit_sample(X_train, y_train)\n",
    "X_train_resampled_df = pd.DataFrame(X_train_resampled, columns = X_train.columns)\n"
   ]
  },
  {
   "cell_type": "markdown",
   "metadata": {},
   "source": [
    "## Random Forest"
   ]
  },
  {
   "cell_type": "code",
   "execution_count": 242,
   "metadata": {},
   "outputs": [
    {
     "data": {
      "text/plain": [
       "DecisionTreeClassifier(class_weight=None, criterion='gini', max_depth=None,\n",
       "                       max_features=None, max_leaf_nodes=None,\n",
       "                       min_impurity_decrease=0.0, min_impurity_split=None,\n",
       "                       min_samples_leaf=1, min_samples_split=2,\n",
       "                       min_weight_fraction_leaf=0.0, presort=False,\n",
       "                       random_state=33, splitter='best')"
      ]
     },
     "execution_count": 242,
     "metadata": {},
     "output_type": "execute_result"
    }
   ],
   "source": [
    "#Criterion: Gini Coefficient\n",
    "classifier = DecisionTreeClassifier(random_state = 33)\n",
    "classifier.fit(X_train_resampled, y_train_resampled)"
   ]
  },
  {
   "cell_type": "code",
   "execution_count": 244,
   "metadata": {},
   "outputs": [],
   "source": [
    "y_pred = classifier.predict(X_test)"
   ]
  },
  {
   "cell_type": "code",
   "execution_count": 245,
   "metadata": {},
   "outputs": [
    {
     "name": "stdout",
     "output_type": "stream",
     "text": [
      "Accuracy is: 75.9%\n",
      "\n",
      "AUC is: 0.54\n",
      "---------------------------\n",
      "\n",
      "Confusion Matrix:\n",
      "\n",
      "Predicted     0     1   All\n",
      "True                       \n",
      "0           249   866  1115\n",
      "1           997  5618  6615\n",
      "All        1246  6484  7730\n"
     ]
    }
   ],
   "source": [
    "acc = accuracy_score(y_test, y_pred) * 100\n",
    "print(f\"Accuracy is: {round(acc,2)}%\")\n",
    "\n",
    "#Check predictions-AUC\n",
    "false_positive_rate, true_positive_rate, thresholds = roc_curve(y_test, y_pred)\n",
    "roc_auc = auc(false_positive_rate, true_positive_rate)\n",
    "print(f\"\\nAUC is: {round(roc_auc, 2)}\")\n",
    "\n",
    "#Confusion Matrix\n",
    "print('---------------------------')\n",
    "print(\"\\nConfusion Matrix:\\n\")\n",
    "print(pd.crosstab(y_test, y_pred, rownames = ['True'], colnames = ['Predicted'], margins = True))"
   ]
  },
  {
   "cell_type": "code",
   "execution_count": 246,
   "metadata": {},
   "outputs": [
    {
     "name": "stdout",
     "output_type": "stream",
     "text": [
      "Accuracy is: 76.08%\n",
      "\n",
      "AUC is: 0.53\n",
      "---------------------------\n",
      "\n",
      "Confusion Matrix:\n",
      "\n",
      "Predicted     0     1   All\n",
      "True                       \n",
      "0           229   886  1115\n",
      "1           963  5652  6615\n",
      "All        1192  6538  7730\n"
     ]
    }
   ],
   "source": [
    "#Train DT Classifier (Criterion: Entropy)\n",
    "classifier2 = DecisionTreeClassifier(random_state = 33, criterion = 'entropy')\n",
    "classifier2.fit(X_train_resampled, y_train_resampled)\n",
    "y_pred = classifier2.predict(X_test)\n",
    "acc = accuracy_score(y_test, y_pred) * 100\n",
    "print(f\"Accuracy is: {round(acc,2)}%\")\n",
    "\n",
    "#Check predictions-AUC\n",
    "false_positive_rate, true_positive_rate, thresholds = roc_curve(y_test, y_pred)\n",
    "roc_auc = auc(false_positive_rate, true_positive_rate)\n",
    "print(f\"\\nAUC is: {round(roc_auc, 2)}\")\n",
    "\n",
    "#Confusion Matrix\n",
    "print('---------------------------')\n",
    "print(\"\\nConfusion Matrix:\\n\")\n",
    "print(pd.crosstab(y_test, y_pred, rownames = ['True'], colnames = ['Predicted'], margins = True))\n"
   ]
  },
  {
   "cell_type": "code",
   "execution_count": 268,
   "metadata": {},
   "outputs": [
    {
     "data": {
      "text/plain": [
       "<Figure size 2160x2160 with 0 Axes>"
      ]
     },
     "metadata": {},
     "output_type": "display_data"
    },
    {
     "data": {
      "image/png": "[encoded data removed]",
      "text/plain": [
       "<Figure size 576x576 with 1 Axes>"
      ]
     },
     "metadata": {},
     "output_type": "display_data"
    }
   ],
   "source": [
    "# Feature Importance\n",
    "\n",
    "classifier2.feature_importances_\n",
    "def plot_feature_importances(model):\n",
    "    plt.figure(figsize = (30,30))\n",
    "    n_features = X_train.shape[1]\n",
    "    plt.figure(figsize=(8,8))\n",
    "    plt.barh(range(n_features), model.feature_importances_, align='center') \n",
    "    plt.yticks(np.arange(n_features), X_train.columns.values) \n",
    "    plt.xlabel(\"Feature importance\")\n",
    "    plt.ylabel(\"Feature\")\n",
    "    \n",
    "\n",
    "plot_feature_importances(classifier2)"
   ]
  },
  {
   "cell_type": "code",
   "execution_count": 251,
   "metadata": {},
   "outputs": [
    {
     "name": "stdout",
     "output_type": "stream",
     "text": [
      "[[ 229  886]\n",
      " [ 963 5652]]\n",
      "              precision    recall  f1-score   support\n",
      "\n",
      "           0       0.19      0.21      0.20      1115\n",
      "           1       0.86      0.85      0.86      6615\n",
      "\n",
      "    accuracy                           0.76      7730\n",
      "   macro avg       0.53      0.53      0.53      7730\n",
      "weighted avg       0.77      0.76      0.76      7730\n",
      "\n"
     ]
    }
   ],
   "source": [
    "pred = classifier2.predict(X_test)\n",
    "print(confusion_matrix(y_test, pred))\n",
    "print(classification_report(y_test, pred))"
   ]
  },
  {
   "cell_type": "code",
   "execution_count": 252,
   "metadata": {},
   "outputs": [
    {
     "data": {
      "text/plain": [
       "RandomForestClassifier(bootstrap=True, class_weight=None, criterion='gini',\n",
       "                       max_depth=6, max_features='auto', max_leaf_nodes=None,\n",
       "                       min_impurity_decrease=0.0, min_impurity_split=None,\n",
       "                       min_samples_leaf=1, min_samples_split=2,\n",
       "                       min_weight_fraction_leaf=0.0, n_estimators=100,\n",
       "                       n_jobs=None, oob_score=False, random_state=None,\n",
       "                       verbose=0, warm_start=False)"
      ]
     },
     "execution_count": 252,
     "metadata": {},
     "output_type": "execute_result"
    }
   ],
   "source": [
    "forest = RandomForestClassifier(n_estimators = 100, max_depth = 6)\n",
    "forest.fit(X_train_resampled, y_train_resampled)"
   ]
  },
  {
   "cell_type": "code",
   "execution_count": 253,
   "metadata": {},
   "outputs": [
    {
     "data": {
      "text/plain": [
       "0.8744174684305472"
      ]
     },
     "execution_count": 253,
     "metadata": {},
     "output_type": "execute_result"
    }
   ],
   "source": [
    "forest.score(X_train_resampled, y_train_resampled)"
   ]
  },
  {
   "cell_type": "code",
   "execution_count": 254,
   "metadata": {},
   "outputs": [
    {
     "data": {
      "text/plain": [
       "0.8181112548512289"
      ]
     },
     "execution_count": 254,
     "metadata": {},
     "output_type": "execute_result"
    }
   ],
   "source": [
    "forest.score(X_test, y_test)"
   ]
  },
  {
   "cell_type": "code",
   "execution_count": 269,
   "metadata": {},
   "outputs": [
    {
     "data": {
      "text/plain": [
       "<Figure size 2160x2160 with 0 Axes>"
      ]
     },
     "metadata": {},
     "output_type": "display_data"
    },
    {
     "data": {
      "image/png": "[encoded data removed]",
      "text/plain": [
       "<Figure size 576x576 with 1 Axes>"
      ]
     },
     "metadata": {},
     "output_type": "display_data"
    }
   ],
   "source": [
    "plot_feature_importances(forest)"
   ]
  },
  {
   "cell_type": "code",
   "execution_count": 256,
   "metadata": {},
   "outputs": [],
   "source": [
    "#Hyperparameter Selection\n",
    "from sklearn.model_selection import GridSearchCV\n",
    "param_grid = {\n",
    "    'n_estimators':[30,100,300],\n",
    "    'min_samples_split':[2,4,6],\n",
    "    'min_samples_leaf':[2,4,6]\n",
    "}"
   ]
  },
  {
   "cell_type": "code",
   "execution_count": 90,
   "metadata": {},
   "outputs": [
    {
     "data": {
      "text/plain": [
       "{'min_samples_leaf': 2, 'min_samples_split': 2, 'n_estimators': 100}"
      ]
     },
     "execution_count": 90,
     "metadata": {},
     "output_type": "execute_result"
    }
   ],
   "source": [
    "gs = GridSearchCV(forest, param_grid, cv = 5)\n",
    "gs.fit(X_train_resampled, y_train_resampled)\n",
    "gs.score(X_test, y_test)\n",
    "gs.best_params_"
   ]
  },
  {
   "cell_type": "code",
   "execution_count": 257,
   "metadata": {},
   "outputs": [
    {
     "name": "stdout",
     "output_type": "stream",
     "text": [
      "Train Accuracy Score: 0.9305096211665664\n",
      "Test Accuracy Score: 0.8545924967658474\n",
      "\n",
      "AUC is: 0.53\n"
     ]
    }
   ],
   "source": [
    "classifier3 = RandomForestClassifier(n_estimators = 100, criterion = 'entropy', min_samples_leaf = 6, min_samples_split = 4)\n",
    "classifier3.fit(X_train_resampled, y_train_resampled)\n",
    "classifier3.predict(X_test)\n",
    "print(f\"Train Accuracy Score: {classifier3.score(X_train_resampled, y_train_resampled)}\")\n",
    "print(f\"Test Accuracy Score: {classifier3.score(X_test, y_test)}\")\n",
    "print(f\"\\nAUC is: {round(roc_auc, 2)}\")"
   ]
  },
  {
   "cell_type": "code",
   "execution_count": null,
   "metadata": {},
   "outputs": [],
   "source": []
  }
 ],
 "metadata": {
  "kernelspec": {
   "display_name": "learn-env",
   "language": "python",
   "name": "learn-env"
  },
  "language_info": {
   "codemirror_mode": {
    "name": "ipython",
    "version": 3
   },
   "file_extension": ".py",
   "mimetype": "text/x-python",
   "name": "python",
   "nbconvert_exporter": "python",
   "pygments_lexer": "ipython3",
   "version": "3.6.9"
  }
 },
 "nbformat": 4,
 "nbformat_minor": 4
}
